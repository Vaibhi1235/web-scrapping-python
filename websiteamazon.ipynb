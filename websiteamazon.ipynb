{
 "cells": [
  {
   "cell_type": "code",
   "execution_count": 26,
   "metadata": {},
   "outputs": [],
   "source": [
    "import requests\n",
    "from bs4 import BeautifulSoup\n",
    "import csv\n",
    "import re"
   ]
  },
  {
   "cell_type": "code",
   "execution_count": 35,
   "metadata": {},
   "outputs": [],
   "source": [
    "web=requests.get('https://www.amazon.in/s?k=oneplus+mobile&crid=27XOAUK43H72I&sprefix=oneplus+mobile%2Caps%2C301&ref=nb_sb_noss_1')\n",
    "while web.status_code !=200:\n",
    "    web=requests.get('https://www.amazon.in/s?k=oneplus+mobile&crid=27XOAUK43H72I&sprefix=oneplus+mobile%2Caps%2C301&ref=nb_sb_noss_1')\n",
    "    s=BeautifulSoup(web.content,'html.parser')\n",
    "    listing=s.find_all('div',{'class':'puisg-row'})"
   ]
  },
  {
   "cell_type": "code",
   "execution_count": 34,
   "metadata": {},
   "outputs": [],
   "source": [
    "content=s.find_all('a')\n",
    "for link in content:\n",
    "    v=(link.get('href'))\n",
    "    break\n",
    "    print(v)\n"
   ]
  },
  {
   "cell_type": "code",
   "execution_count": 40,
   "metadata": {},
   "outputs": [
    {
     "name": "stdout",
     "output_type": "stream",
     "text": [
      "Price:19,999,Amount:20,999,Description:OnePlus Nord CE4 Lite 5G (Super Silver, 8GB RAM, 128GB Storage)\n",
      "Price:18,098,Amount:19,999,Description:OnePlus Nord CE 3 Lite 5G (Chromatic Gray, 8GB RAM, 128GB Storage)\n",
      "Price:19,999,Amount:20,999,Description:OnePlus Nord CE4 Lite 5G (Mega Blue, 8GB RAM, 128GB Storage)\n",
      "Price:17,759,Amount:19,999,Description:OnePlus Nord CE 3 Lite 5G (Pastel Lime, 8GB RAM, 128GB Storage)\n",
      "Price:18,999,Amount:26,999,Description:OnePlus Nord CE 3 5G (Aqua Surge, 8GB RAM, 128GB Storage)\n",
      "Price:not found,Amount:not found,Description:OnePlus Nord 3 5G (Tempest Gray, 8GB RAM, 128GB Storage)\n",
      "Price:24,999,Amount:not found,Description:Oneplus Nord CE4 (Celadon Marble, 8GB RAM, 128Gb Storage)\n",
      "Price:29,999,Amount:39,999,Description:OnePlus 11R 5G (Galactic Silver, 8GB RAM, 128GB Storage)\n",
      "Price:19,699,Amount:29,999,Description:OnePlus Nord CE 3 Lite 5G (Chromatic Gray, 8GB RAM, 256GB Storage)\n",
      "Price:26,999,Amount:not found,Description:Oneplus Nord CE4 (Dark Chrome, 8GB RAM, 256GB Storage)\n",
      "Price:22,999,Amount:23,999,Description:OnePlus Nord CE4 Lite 5G (Super Silver, 8GB RAM, 256GB Storage)\n",
      "Price:26,999,Amount:not found,Description:Oneplus Nord CE4 (Celadon Marble, 8GB RAM, 256GB Storage)\n",
      "Price:24,999,Amount:not found,Description:Oneplus Nord CE4 (Dark Chrome, 8GB RAM, 128GB Storage)\n",
      "Price:11,830,Amount:19,999,Description:Oneplus Nord N20 SE (Celestial Black, 4GB RAM+ 128GB Storage)\n",
      "Price:not found,Amount:not found,Description:OnePlus 11R 5G (Solar Red, 8GB RAM, 128GB Storage)\n",
      "Price:19,699,Amount:21,999,Description:OnePlus Nord CE 3 Lite 5G (Pastel Lime, 8GB RAM, 256GB Storage)\n"
     ]
    }
   ],
   "source": [
    "amazon='amz.csv'\n",
    "with open(amazon,'w',newline='') as amt:\n",
    "    a=csv.DictWriter(amt,['Price','Amount','Description'])\n",
    "    a.writeheader()\n",
    "for i ,listings in enumerate(listing):\n",
    "    if i % 2==0:\n",
    "        d={}\n",
    "        title_list=[]\n",
    "        price_element=listings.find('span',{'class':'a-price-whole'})\n",
    "        amount_listings=listings.find('span',{'class':'a-price a-text-price'})\n",
    "        Description_listings=listings.find('span',{'class':'a-size-medium a-color-base a-text-normal'})\n",
    "\n",
    "\n",
    "        price=price_element.text.strip() if price_element else 'not found'\n",
    "        amount=amount_listings.text[1:7] if amount_listings else 'not found'\n",
    "        description=Description_listings.text.strip() if Description_listings else 'not found'\n",
    "\n",
    "        if description!='not found':\n",
    "            d['Price']=price\n",
    "            d['Amount']=amount\n",
    "            d['Description']=description\n",
    "            title_list.append(d)\n",
    "            with open (amazon,'a',newline='') as amt:\n",
    "                a=csv.DictWriter(amt,['Price','Amount','Description'])\n",
    "                a.writerows(title_list)\n",
    "            print(f\"Price:{price},Amount:{amount},Description:{description}\")\n",
    "        \n",
    "\n",
    "                                           \n",
    "                                        "
   ]
  }
 ],
 "metadata": {
  "kernelspec": {
   "display_name": "base",
   "language": "python",
   "name": "python3"
  },
  "language_info": {
   "codemirror_mode": {
    "name": "ipython",
    "version": 3
   },
   "file_extension": ".py",
   "mimetype": "text/x-python",
   "name": "python",
   "nbconvert_exporter": "python",
   "pygments_lexer": "ipython3",
   "version": "3.11.7"
  }
 },
 "nbformat": 4,
 "nbformat_minor": 2
}
